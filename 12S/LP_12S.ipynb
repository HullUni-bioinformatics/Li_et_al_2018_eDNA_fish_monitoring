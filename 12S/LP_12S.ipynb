{
 "cells": [
  {
   "cell_type": "markdown",
   "metadata": {},
   "source": [
    "#metaBEAT analysis of Illumina MiSeq output for Lake project_12S_Feb_2017"
   ]
  },
  {
   "cell_type": "markdown",
   "metadata": {},
   "source": [
    "Mark sure your metaBEAT image version is the latest\n",
    "\n",
    "`metaBEAT - metaBarcoding and Environmental DNA Analyses tool version: v.0.97.9-global`\n",
    "\n",
    "Update from your terminal\n",
    "\n",
    "####check the image, the latest ID should be f2646ec2d352\n",
    "\n",
    "sudo docker images\n",
    "####if not, use the command to update the image from your terminal\n",
    "\n",
    "sudo docker pull chrishah/metabeat\n"
   ]
  },
  {
   "cell_type": "markdown",
   "metadata": {},
   "source": [
    "###The first step will be to demultiplex and trim/clean our raw Illumina data"
   ]
  },
  {
   "cell_type": "markdown",
   "metadata": {},
   "source": [
    "Prepare a text file `Querymap` specifying the samples to be processed including the format and location of the reads.\n",
    "\n",
    "The __raw data__ need to be downloaded with `How_to_download_Rawdata_from_SRA.ipynb` (see [here](https://github.com/HullUni-bioinformatics/Li_et_al_2018_eDNA_fish_monitoring/blob/master/12S/How_to_download_Rawdata_from_SRA.ipynb))\n",
    "\n",
    "\n",
    "We need a __query map__ (see [here](https://github.com/HullUni-bioinformatics/Li_et_al_2018_eDNA_fish_monitoring/blob/master/12S/Querymap_demultiplex_trimming_12S.txt) which lists these files along with the primer combinations for each well in each file, and the length of the primer sequence (including heterogeneity spacers, but NOT including any tags) to be trimmed off.\n"
   ]
  },
  {
   "cell_type": "code",
   "execution_count": 1,
   "metadata": {
    "collapsed": false
   },
   "outputs": [
    {
     "name": "stdout",
     "output_type": "stream",
     "text": [
      "/home/working\r\n"
     ]
    }
   ],
   "source": [
    "!pwd"
   ]
  },
  {
   "cell_type": "code",
   "execution_count": 2,
   "metadata": {
    "collapsed": true
   },
   "outputs": [],
   "source": [
    "!mkdir trimming"
   ]
  },
  {
   "cell_type": "code",
   "execution_count": 3,
   "metadata": {
    "collapsed": false
   },
   "outputs": [
    {
     "name": "stdout",
     "output_type": "stream",
     "text": [
      "/home/working/trimming\n"
     ]
    }
   ],
   "source": [
    "cd trimming/"
   ]
  },
  {
   "cell_type": "code",
   "execution_count": 4,
   "metadata": {
    "collapsed": false
   },
   "outputs": [],
   "source": [
    "!mv ../Querymap_demultiplex_trimming_12S.txt ../trimming/"
   ]
  },
  {
   "cell_type": "code",
   "execution_count": 5,
   "metadata": {
    "collapsed": false,
    "scrolled": false
   },
   "outputs": [
    {
     "name": "stdout",
     "output_type": "stream",
     "text": [
      "BET01\tfastq\t../raw_data/BET-12S_R1.fastq.gz\t../raw_data/BET-12S_R2.fastq.gz\tTCGCCTTA\tTAGATCGC\t18\t18\r\n",
      "BET02\tfastq\t../raw_data/BET-12S_R1.fastq.gz\t../raw_data/BET-12S_R2.fastq.gz\tTCGCCTTA\tCTCTCTAT\t18\t19\r\n",
      "BET03\tfastq\t../raw_data/BET-12S_R1.fastq.gz\t../raw_data/BET-12S_R2.fastq.gz\tTCGCCTTA\tTATCCTCT\t18\t20\r\n",
      "BET04\tfastq\t../raw_data/BET-12S_R1.fastq.gz\t../raw_data/BET-12S_R2.fastq.gz\tTCGCCTTA\tAGAGTAGA\t18\t21\r\n",
      "BET05\tfastq\t../raw_data/BET-12S_R1.fastq.gz\t../raw_data/BET-12S_R2.fastq.gz\tTCGCCTTA\tGTAAGGAG\t18\t22\r\n",
      "BET06\tfastq\t../raw_data/BET-12S_R1.fastq.gz\t../raw_data/BET-12S_R2.fastq.gz\tTCGCCTTA\tACTGCATA\t18\t23\r\n",
      "BET07\tfastq\t../raw_data/BET-12S_R1.fastq.gz\t../raw_data/BET-12S_R2.fastq.gz\tTCGCCTTA\tAAGGAGTA\t18\t24\r\n",
      "BET08\tfastq\t../raw_data/BET-12S_R1.fastq.gz\t../raw_data/BET-12S_R2.fastq.gz\tTCGCCTTA\tCTAAGCCT\t18\t25\r\n",
      "BET09\tfastq\t../raw_data/BET-12S_R1.fastq.gz\t../raw_data/BET-12S_R2.fastq.gz\tCTAGTACG\tTAGATCGC\t19\t18\r\n",
      "BET10\tfastq\t../raw_data/BET-12S_R1.fastq.gz\t../raw_data/BET-12S_R2.fastq.gz\tCTAGTACG\tCTCTCTAT\t19\t19\r\n"
     ]
    }
   ],
   "source": [
    "!head Querymap_demultiplex_trimming_12S.txt"
   ]
  },
  {
   "cell_type": "code",
   "execution_count": 6,
   "metadata": {
    "collapsed": false,
    "scrolled": true
   },
   "outputs": [
    {
     "name": "stdout",
     "output_type": "stream",
     "text": [
      "BET-12S_R1.fastq.gz  LLB-12S_R1.fastq.gz  PAD-12S_R1.fastq.gz\r\n",
      "BET-12S_R2.fastq.gz  LLB-12S_R2.fastq.gz  PAD-12S_R2.fastq.gz\r\n",
      "CAM-12S_R1.fastq.gz  LLG-12S_R1.fastq.gz  PEN-12S_R1.fastq.gz\r\n",
      "CAM-12S_R2.fastq.gz  LLG-12S_R2.fastq.gz  PEN-12S_R2.fastq.gz\r\n",
      "CWE-12S_R1.fastq.gz  MAP-12S_R1.fastq.gz  TRA-12S_R1.fastq.gz\r\n",
      "CWE-12S_R2.fastq.gz  MAP-12S_R2.fastq.gz  TRA-12S_R2.fastq.gz\r\n",
      "FEN-12S_R1.fastq.gz  OGW-12S_R1.fastq.gz  WLF-12S_R1.fastq.gz\r\n",
      "FEN-12S_R2.fastq.gz  OGW-12S_R2.fastq.gz  WLF-12S_R2.fastq.gz\r\n",
      "KEN-12S_R1.fastq.gz  OSS-12S_R1.fastq.gz\r\n",
      "KEN-12S_R2.fastq.gz  OSS-12S_R2.fastq.gz\r\n"
     ]
    }
   ],
   "source": [
    "ls ../raw_data/"
   ]
  },
  {
   "cell_type": "markdown",
   "metadata": {},
   "source": [
    "###Raw data demultiplex and trimming, removal of adapter sequences and merging of reads using the metaBEAT pipeline.¶"
   ]
  },
  {
   "cell_type": "markdown",
   "metadata": {},
   "source": [
    "__The manual of metaBEAT_global.py can run the command as below__"
   ]
  },
  {
   "cell_type": "code",
   "execution_count": null,
   "metadata": {
    "collapsed": true
   },
   "outputs": [],
   "source": [
    "%%bash\n",
    "\n",
    "metaBEAT_global.py -h"
   ]
  },
  {
   "cell_type": "markdown",
   "metadata": {},
   "source": [
    "Now we run the trimming and clustering; note that there is no assignment method selected at this stage so metaBEAT will not attempt to make any assignments"
   ]
  },
  {
   "cell_type": "code",
   "execution_count": 8,
   "metadata": {
    "collapsed": false
   },
   "outputs": [
    {
     "name": "stdout",
     "output_type": "stream",
     "text": [
      "Starttime: Thu Nov 30 20:03:33 UTC 2017\n",
      "\n",
      "Endtime: Thu Nov 30 23:59:51 UTC 2017\n",
      "\n"
     ]
    }
   ],
   "source": [
    "%%bash\n",
    "\n",
    "echo -e \"Starttime: $(date)\\n\"\n",
    "\n",
    "metaBEAT_global.py \\\n",
    "-Q Querymap_demultiplex_trimming.txt \\\n",
    "--trim_qual 30 \\\n",
    "--trim_minlength 90 \\\n",
    "--merge \\\n",
    "--product_length 110 \\\n",
    "--read_crop 110 \\\n",
    "--forward_only \\\n",
    "--length_filter 100 \\\n",
    "--length_deviation 0.2 \\\n",
    "-n 5 -v \\\n",
    "-@ haikuilee@gmail.com &> log_trimming\n",
    "\n",
    "echo -e \"Endtime: $(date)\\n\""
   ]
  },
  {
   "cell_type": "markdown",
   "metadata": {},
   "source": [
    "__Query survival after trimming__"
   ]
  },
  {
   "cell_type": "markdown",
   "metadata": {},
   "source": [
    "Some stats on the read counts before/after trimming, merging etc. are summarized for you in `metaBEAT_read_stats.csv`."
   ]
  },
  {
   "cell_type": "code",
   "execution_count": 9,
   "metadata": {
    "collapsed": false
   },
   "outputs": [
    {
     "data": {
      "text/plain": [
       "<matplotlib.axes.AxesSubplot at 0x7f8ca05d8750>"
      ]
     },
     "execution_count": 9,
     "metadata": {},
     "output_type": "execute_result"
    },
    {
     "data": {
      "image/png": "[encoded data removed]",
      "text/plain": [
       "<matplotlib.figure.Figure at 0x7f8ca05d8410>"
      ]
     },
     "metadata": {},
     "output_type": "display_data"
    }
   ],
   "source": [
    "%matplotlib inline\n",
    "import pandas as pd\n",
    "\n",
    "df = pd.read_csv('metaBEAT_read_stats.csv',index_col=0)\n",
    "df['fraction'] = df['queries']/(df['total']*0.5)\n",
    "df.fraction.hist(bins=50)"
   ]
  },
  {
   "cell_type": "code",
   "execution_count": 13,
   "metadata": {
    "collapsed": false
   },
   "outputs": [
    {
     "name": "stdout",
     "output_type": "stream",
     "text": [
      "/home/working\n"
     ]
    }
   ],
   "source": [
    "cd ../"
   ]
  },
  {
   "cell_type": "markdown",
   "metadata": {},
   "source": [
    "###Next stage of the processing is chimera detection and removal of putative chimeric sequences\n",
    "\n",
    "We'll do that using `uchime` as implemented in `vsearch`."
   ]
  },
  {
   "cell_type": "code",
   "execution_count": 14,
   "metadata": {
    "collapsed": true
   },
   "outputs": [],
   "source": [
    "!mkdir chimera_detection"
   ]
  },
  {
   "cell_type": "code",
   "execution_count": 15,
   "metadata": {
    "collapsed": false
   },
   "outputs": [
    {
     "name": "stdout",
     "output_type": "stream",
     "text": [
      "/home/working/chimera_detection\n"
     ]
    }
   ],
   "source": [
    "cd chimera_detection/"
   ]
  },
  {
   "cell_type": "markdown",
   "metadata": {},
   "source": [
    "### Prepare Ref map\n",
    "    \n",
    "Convert reference database from Genbank to fasta format to be used in chimera detection.\n",
    "\n",
    "Prepare Refmap file, i.e. text file that specifies the location and the format of the reference to be used.\n",
    "\n",
    "The reference sequences in Genbank format should already be present in the `supplementary_data` directory: `12S_Fish_SATIVA_cleaned_May_2017.gb`\n",
    "And `Astatotilapia_calliptera.gb` is positive control"
   ]
  },
  {
   "cell_type": "code",
   "execution_count": 16,
   "metadata": {
    "collapsed": false
   },
   "outputs": [
    {
     "name": "stdout",
     "output_type": "stream",
     "text": [
      "12S_Fish_SATIVA_cleaned_May_2017.gb  Astatotilapia_calliptera.gb\r\n"
     ]
    }
   ],
   "source": [
    "!ls ../supplementary_data/reference_DBs/"
   ]
  },
  {
   "cell_type": "code",
   "execution_count": 17,
   "metadata": {
    "collapsed": true
   },
   "outputs": [],
   "source": [
    "%%bash\n",
    "\n",
    "#Write REFmap\n",
    "for file in $(ls -1 ../supplementary_data/reference_DBs/* | grep \".gb$\")\n",
    "do\n",
    "      echo -e \"$file\\tgb\"\n",
    "done > REFmap.txt"
   ]
  },
  {
   "cell_type": "code",
   "execution_count": 18,
   "metadata": {
    "collapsed": false
   },
   "outputs": [
    {
     "name": "stdout",
     "output_type": "stream",
     "text": [
      "../supplementary_data/reference_DBs/12S_Fish_SATIVA_cleaned_May_2017.gb\tgb\r\n",
      "../supplementary_data/reference_DBs/Astatotilapia_calliptera.gb\tgb\r\n"
     ]
    }
   ],
   "source": [
    "!cat REFmap.txt"
   ]
  },
  {
   "cell_type": "markdown",
   "metadata": {},
   "source": [
    "__Transfer reference DB from gb to fasta format__\n",
    "\n",
    "This will produce `refs.fasta`"
   ]
  },
  {
   "cell_type": "code",
   "execution_count": null,
   "metadata": {
    "collapsed": true
   },
   "outputs": [],
   "source": [
    "%%bash\n",
    "\n",
    "metaBEAT_global.py \\\n",
    "-R REFmap.txt \\\n",
    "-f \\\n",
    "-@ haikuilee@gmail.com"
   ]
  },
  {
   "cell_type": "code",
   "execution_count": null,
   "metadata": {
    "collapsed": true
   },
   "outputs": [],
   "source": [
    "!head -2 refs.fasta"
   ]
  },
  {
   "cell_type": "markdown",
   "metadata": {},
   "source": [
    "\n",
    "__Now run chimera detection__"
   ]
  },
  {
   "cell_type": "code",
   "execution_count": null,
   "metadata": {
    "collapsed": true
   },
   "outputs": [],
   "source": [
    "%%bash\n",
    "\n",
    "echo -e \"Starttime: $(date)\\n\"\n",
    "\n",
    "for a in $(cut -f 1 ../trimming/Querymap_demultiplex_trimming_12S.txt)\n",
    "do\n",
    "    if [ -s ../trimming/$a/$a\\_trimmed.fasta ]\n",
    "    then\n",
    "        echo -e \"\\n### Detecting chimeras in $a ###\\n\"\n",
    "        mkdir $a\n",
    "        cd $a\n",
    "        vsearch --uchime_ref ../../trimming/$a/$a\\_trimmed.fasta --db ../refs.fasta \\\n",
    "        --nonchimeras $a-nonchimeras.fasta --chimeras $a-chimeras.fasta &> log\n",
    "        cd ..\n",
    "\n",
    "    else\n",
    "        echo -e \"$a is empty\"\n",
    "    fi\n",
    "done\n",
    "\n",
    "echo -e \"Endtime: $(date)\\n\""
   ]
  },
  {
   "cell_type": "markdown",
   "metadata": {},
   "source": [
    "### Last step is taxonomic assignment of reads based on a BLAST - LCA approach using the metaBEAT pipeline."
   ]
  },
  {
   "cell_type": "code",
   "execution_count": 23,
   "metadata": {
    "collapsed": false
   },
   "outputs": [
    {
     "name": "stdout",
     "output_type": "stream",
     "text": [
      "/home/working\n"
     ]
    }
   ],
   "source": [
    "cd .."
   ]
  },
  {
   "cell_type": "code",
   "execution_count": 24,
   "metadata": {
    "collapsed": true
   },
   "outputs": [],
   "source": [
    "!mkdir non-chimeras"
   ]
  },
  {
   "cell_type": "code",
   "execution_count": 25,
   "metadata": {
    "collapsed": false
   },
   "outputs": [
    {
     "name": "stdout",
     "output_type": "stream",
     "text": [
      "/home/working/non-chimeras\n"
     ]
    }
   ],
   "source": [
    "cd non-chimeras/"
   ]
  },
  {
   "cell_type": "markdown",
   "metadata": {},
   "source": [
    "__Prepare Querymap and Refmap txt files__\n",
    "\n",
    "__To skip the `GLOBAL` folder under chimeras detection, add a new line in below command  if [ \"$a\" != \"GLOBAL\" ]__"
   ]
  },
  {
   "cell_type": "code",
   "execution_count": 26,
   "metadata": {
    "collapsed": true
   },
   "outputs": [],
   "source": [
    "%%bash\n",
    "\n",
    "#Querymap\n",
    "for a in $(ls -l ../chimera_detection/ | grep \"^d\" | perl -ne 'chomp; @a=split(\" \"); print \"$a[-1]\\n\"')\n",
    "do\n",
    "   if [ \"$a\" != \"GLOBAL\" ]\n",
    "   then\n",
    "      echo -e \"$a-nc\\tfasta\\t../chimera_detection/$a/$a-nonchimeras.fasta\"\n",
    "   fi\n",
    "done > Querymap.txt\n",
    "\n",
    "\n",
    "#Write REFmap\n",
    "for file in $(ls -1 ../supplementary_data/reference_DBs/* | grep \".gb$\")\n",
    "do\n",
    "      echo -e \"$file\\tgb\"\n",
    "done > REFmap.txt"
   ]
  },
  {
   "cell_type": "code",
   "execution_count": null,
   "metadata": {
    "collapsed": true
   },
   "outputs": [],
   "source": [
    "!head -10  Querymap.txt"
   ]
  },
  {
   "cell_type": "code",
   "execution_count": 28,
   "metadata": {
    "collapsed": false
   },
   "outputs": [
    {
     "name": "stdout",
     "output_type": "stream",
     "text": [
      "../supplementary_data/reference_DBs/12S_Fish_SATIVA_cleaned_May_2017.gb\tgb\r\n",
      "../supplementary_data/reference_DBs/Astatotilapia_calliptera.gb\tgb\r\n"
     ]
    }
   ],
   "source": [
    "!cat REFmap.txt"
   ]
  },
  {
   "cell_type": "markdown",
   "metadata": {},
   "source": [
    "__Sequence clustering and taxonomic assignment via metaBEAT__"
   ]
  },
  {
   "cell_type": "code",
   "execution_count": 29,
   "metadata": {
    "collapsed": false
   },
   "outputs": [
    {
     "name": "stdout",
     "output_type": "stream",
     "text": [
      "Starttime: Fri Dec  1 19:28:27 UTC 2017\n",
      "\n",
      "Endtime: Fri Dec  1 19:42:41 UTC 2017\n",
      "\n"
     ]
    }
   ],
   "source": [
    "%%bash\n",
    "\n",
    "echo -e \"Starttime: $(date)\\n\"\n",
    "\n",
    "metaBEAT_global.py \\\n",
    "-Q Querymap.txt \\\n",
    "-R REFmap.txt \\\n",
    "--blast --min_ident 1.0 \\\n",
    "--cluster --clust_match 1 --clust_cov 3 \\\n",
    "-m 12S -n 5 \\\n",
    "-E -v \\\n",
    "-@  haikuilee@gmail.com \\\n",
    "-o 12S_LP-trim_30-merged-nonchimeras-cluster_1c3-blast-min_ident_1 &> log_non-chimeras\n",
    "\n",
    "echo -e \"Endtime: $(date)\\n\""
   ]
  },
  {
   "cell_type": "markdown",
   "metadata": {},
   "source": [
    "__Results are under the `GLOBAL` folder__"
   ]
  },
  {
   "cell_type": "code",
   "execution_count": null,
   "metadata": {
    "collapsed": true
   },
   "outputs": [],
   "source": []
  }
 ],
 "metadata": {
  "kernelspec": {
   "display_name": "Python 2",
   "language": "python",
   "name": "python2"
  },
  "language_info": {
   "codemirror_mode": {
    "name": "ipython",
    "version": 2
   },
   "file_extension": ".py",
   "mimetype": "text/x-python",
   "name": "python",
   "nbconvert_exporter": "python",
   "pygments_lexer": "ipython2",
   "version": "2.7.6"
  }
 },
 "nbformat": 4,
 "nbformat_minor": 0
}
