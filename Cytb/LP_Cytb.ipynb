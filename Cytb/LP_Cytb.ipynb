{
 "cells": [
  {
   "cell_type": "markdown",
   "metadata": {},
   "source": [
    "#metaBEAT analysis of Illumina MiSeq output for Lake project_Cytb_Dec_2016"
   ]
  },
  {
   "cell_type": "markdown",
   "metadata": {},
   "source": [
    "Mark sure your metaBEAT image version is the latest\n",
    "\n",
    "`metaBEAT - metaBarcoding and Environmental DNA Analyses tool version: v.0.97.9-global`\n",
    "Update from your terminal\n",
    "\n",
    "####check the image, the latest ID should be f2646ec2d352\n",
    "\n",
    "sudo docker images\n",
    "####if not, use the command to update the image from your terminal\n",
    "\n",
    "sudo docker pull chrishah/metabeat\n"
   ]
  },
  {
   "cell_type": "markdown",
   "metadata": {},
   "source": [
    "###The first step will be to trim/clean our raw Illumina data"
   ]
  },
  {
   "cell_type": "code",
   "execution_count": 1,
   "metadata": {
    "collapsed": false
   },
   "outputs": [
    {
     "name": "stdout",
     "output_type": "stream",
     "text": [
      "/home/working\r\n"
     ]
    }
   ],
   "source": [
    "!pwd"
   ]
  },
  {
   "cell_type": "code",
   "execution_count": null,
   "metadata": {
    "collapsed": true
   },
   "outputs": [],
   "source": [
    "!mkdir trimming"
   ]
  },
  {
   "cell_type": "code",
   "execution_count": 3,
   "metadata": {
    "collapsed": false
   },
   "outputs": [
    {
     "name": "stdout",
     "output_type": "stream",
     "text": [
      "/home/working/trimming\n"
     ]
    }
   ],
   "source": [
    "cd trimming"
   ]
  },
  {
   "cell_type": "markdown",
   "metadata": {},
   "source": [
    "__Prepare Querymap__"
   ]
  },
  {
   "cell_type": "markdown",
   "metadata": {},
   "source": [
    "Prepare a text file specifying the samples to be processed including the format and location of the reads. \n",
    "\n",
    "The below command expects the Illumina data to be present in 2 fastq files (forward and reverse reads) per sample in a directory `../raw_reads/`. It expects the files to be named 'sampleID', followed by '_R1' or '_R2' to identify the forward/reverse read file respectively. \n",
    "\n",
    "The raw data need to be downloaded with `How_to_download_Rawdata_from_SRA.ipynb` (see [here](https://github.com/HullUni-bioinformatics/Li_et_al_2018_eDNA_fish_monitoring/blob/master/Cytb/How_to_download_Cytb_Rawdata_from_SRA.ipynb))\n",
    "\n",
    "SampleID must corresponds to the first column in the file `Sample_accessions.tsv` (see [here](https://github.com/HullUni-bioinformatics/Li_et_al_2018_eDNA_fish_monitoring/blob/master/Cytb/supplementary_data/Sample_accessions.tsv)), marker is `Cytb`.\n"
   ]
  },
  {
   "cell_type": "code",
   "execution_count": 4,
   "metadata": {
    "collapsed": true
   },
   "outputs": [],
   "source": [
    "\n",
    "%%bash\n",
    "\n",
    "for a in $(cat ../supplementary_data/Sample_accessions.tsv | grep \"Cytb\" | cut -f 1 | grep \"SampleID\" -v)\n",
    "do\n",
    "    R1=$(ls -1 ../raw_reads/$a-Cytb_* | grep \"_R1.fastq\")\n",
    "    R2=$(ls -1 ../raw_reads/$a-Cytb_* | grep \"_R2.fastq\")\n",
    "\n",
    "    echo -e \"$a\\tfastq\\t$R1\\t$R2\"\n",
    "done > Querymap.txt"
   ]
  },
  {
   "cell_type": "markdown",
   "metadata": {},
   "source": [
    "The resulting file should look e.g. like below:"
   ]
  },
  {
   "cell_type": "code",
   "execution_count": 5,
   "metadata": {
    "collapsed": false
   },
   "outputs": [
    {
     "name": "stdout",
     "output_type": "stream",
     "text": [
      "BET01\tfastq\t../raw_reads/BET01-Cytb_R1.fastq.gz\t../raw_reads/BET01-Cytb_R2.fastq.gz\r\n",
      "BET02\tfastq\t../raw_reads/BET02-Cytb_R1.fastq.gz\t../raw_reads/BET02-Cytb_R2.fastq.gz\r\n",
      "BET03\tfastq\t../raw_reads/BET03-Cytb_R1.fastq.gz\t../raw_reads/BET03-Cytb_R2.fastq.gz\r\n",
      "BET04\tfastq\t../raw_reads/BET04-Cytb_R1.fastq.gz\t../raw_reads/BET04-Cytb_R2.fastq.gz\r\n",
      "BET05\tfastq\t../raw_reads/BET05-Cytb_R1.fastq.gz\t../raw_reads/BET05-Cytb_R2.fastq.gz\r\n",
      "BET06\tfastq\t../raw_reads/BET06-Cytb_R1.fastq.gz\t../raw_reads/BET06-Cytb_R2.fastq.gz\r\n",
      "BET07\tfastq\t../raw_reads/BET07-Cytb_R1.fastq.gz\t../raw_reads/BET07-Cytb_R2.fastq.gz\r\n",
      "BET08\tfastq\t../raw_reads/BET08-Cytb_R1.fastq.gz\t../raw_reads/BET08-Cytb_R2.fastq.gz\r\n",
      "BET09\tfastq\t../raw_reads/BET09-Cytb_R1.fastq.gz\t../raw_reads/BET09-Cytb_R2.fastq.gz\r\n",
      "BET10\tfastq\t../raw_reads/BET10-Cytb_R1.fastq.gz\t../raw_reads/BET10-Cytb_R2.fastq.gz\r\n"
     ]
    }
   ],
   "source": [
    "!head Querymap.txt"
   ]
  },
  {
   "cell_type": "markdown",
   "metadata": {},
   "source": [
    "###Raw data trimming, removal of adapter sequences and merging of readsusing the `metaBEAT` pipeline."
   ]
  },
  {
   "cell_type": "markdown",
   "metadata": {
    "collapsed": false
   },
   "source": [
    "__The manual of metaBEAT_global.py can run the command as below__\n"
   ]
  },
  {
   "cell_type": "code",
   "execution_count": null,
   "metadata": {
    "collapsed": true
   },
   "outputs": [],
   "source": [
    "!metaBEAT_global.py -h"
   ]
  },
  {
   "cell_type": "code",
   "execution_count": 7,
   "metadata": {
    "collapsed": false
   },
   "outputs": [
    {
     "name": "stdout",
     "output_type": "stream",
     "text": [
      "Starttime: Tue Dec 12 12:23:46 UTC 2017\n",
      "\n",
      "Endtime: Wed Dec 13 05:20:53 UTC 2017\n",
      "\n"
     ]
    }
   ],
   "source": [
    "%%bash\n",
    "\n",
    "echo -e \"Starttime: $(date)\\n\"\n",
    "\n",
    "metaBEAT_global.py \\\n",
    "-Q Querymap.txt \\\n",
    "--trim_qual 30 \\\n",
    "--trim_minlength 100 \\\n",
    "--merge --product_length 400 --forward_only \\\n",
    "-@ haikuilee@gmail.com \\\n",
    "-n 5 -v &> log_trimming\n",
    "\n",
    "echo -e \"Endtime: $(date)\\n\""
   ]
  },
  {
   "cell_type": "markdown",
   "metadata": {},
   "source": [
    "__After trimming, there is no queries under sample \"LGSB1\", then it will not been included in \"chimera detection\"__"
   ]
  },
  {
   "cell_type": "markdown",
   "metadata": {},
   "source": [
    "__Query survival after trimming__"
   ]
  },
  {
   "cell_type": "markdown",
   "metadata": {},
   "source": [
    "Some stats on the read counts before/after trimming, merging etc. are summarized for you in `metaBEAT_read_stats.csv`."
   ]
  },
  {
   "cell_type": "code",
   "execution_count": 8,
   "metadata": {
    "collapsed": false,
    "scrolled": false
   },
   "outputs": [
    {
     "data": {
      "text/plain": [
       "<matplotlib.axes.AxesSubplot at 0x7f4f74ead710>"
      ]
     },
     "execution_count": 8,
     "metadata": {},
     "output_type": "execute_result"
    },
    {
     "data": {
      "image/png": "[encoded data removed]",
      "text/plain": [
       "<matplotlib.figure.Figure at 0x7f4f74ead3d0>"
      ]
     },
     "metadata": {},
     "output_type": "display_data"
    }
   ],
   "source": [
    "%matplotlib inline\n",
    "import pandas as pd\n",
    "\n",
    "df = pd.read_csv('metaBEAT_read_stats.csv',index_col=0)\n",
    "df['fraction'] = df['queries']/(df['total']*0.5)\n",
    "df.fraction.hist(bins=50)"
   ]
  },
  {
   "cell_type": "code",
   "execution_count": 9,
   "metadata": {
    "collapsed": false
   },
   "outputs": [
    {
     "name": "stdout",
     "output_type": "stream",
     "text": [
      "/home/working\n"
     ]
    }
   ],
   "source": [
    "cd ../"
   ]
  },
  {
   "cell_type": "markdown",
   "metadata": {},
   "source": [
    "###Next stage of the processing is chimera detection and removal of putative chimeric sequences\n",
    "\n",
    "We'll do that using `uchime` as implemented in `vsearch`."
   ]
  },
  {
   "cell_type": "code",
   "execution_count": 10,
   "metadata": {
    "collapsed": true
   },
   "outputs": [],
   "source": [
    "!mkdir chimera_detection"
   ]
  },
  {
   "cell_type": "code",
   "execution_count": 11,
   "metadata": {
    "collapsed": false
   },
   "outputs": [
    {
     "name": "stdout",
     "output_type": "stream",
     "text": [
      "/home/working/chimera_detection\n"
     ]
    }
   ],
   "source": [
    "cd chimera_detection"
   ]
  },
  {
   "cell_type": "markdown",
   "metadata": {},
   "source": [
    "__Prepare REFmap__"
   ]
  },
  {
   "cell_type": "markdown",
   "metadata": {},
   "source": [
    "Convert reference database from Genbank to fasta format to be used in chimera detection.\n",
    "\n",
    "Prepare Refmap file, i.e. text file that specifies the location and the format of the reference to be used.\n",
    "\n",
    "The reference sequences in Genbank format should already be present in the `supplementary_data` directory: `Cytb_evohull_DEC_2017.gb`\n",
    " and  `Astatotilapia_calliptera.gb` is positive control"
   ]
  },
  {
   "cell_type": "code",
   "execution_count": 12,
   "metadata": {
    "collapsed": true
   },
   "outputs": [],
   "source": [
    "%%bash\n",
    "\n",
    "#Write REFmap\n",
    "for file in $(ls -1 ../supplementary_data/reference_DBs/* | grep \"gb$\")\n",
    "do\n",
    "      echo -e \"$file\\tgb\"\n",
    "done > REFmap.txt"
   ]
  },
  {
   "cell_type": "code",
   "execution_count": null,
   "metadata": {
    "collapsed": true
   },
   "outputs": [],
   "source": [
    "!cat REFmap.txt"
   ]
  },
  {
   "cell_type": "markdown",
   "metadata": {},
   "source": [
    "__Transfer reference DB from gb to fasta format__"
   ]
  },
  {
   "cell_type": "markdown",
   "metadata": {},
   "source": [
    "This will produce `refs.fasta`"
   ]
  },
  {
   "cell_type": "code",
   "execution_count": null,
   "metadata": {
    "collapsed": true
   },
   "outputs": [],
   "source": [
    "%%bash\n",
    "\n",
    "metaBEAT_global.py \\\n",
    "-R REFmap.txt \\\n",
    "-f \\\n",
    "-@ haikuilee@gmail.com"
   ]
  },
  {
   "cell_type": "code",
   "execution_count": null,
   "metadata": {
    "collapsed": true
   },
   "outputs": [],
   "source": [
    "!head -2 refs.fasta"
   ]
  },
  {
   "cell_type": "markdown",
   "metadata": {},
   "source": [
    "\n",
    "__Now run chimera detection__"
   ]
  },
  {
   "cell_type": "code",
   "execution_count": null,
   "metadata": {
    "collapsed": true
   },
   "outputs": [],
   "source": [
    "%%bash\n",
    "\n",
    "echo -e \"Starttime: $(date)\\n\"\n",
    "\n",
    "for a in $(cut -f 1 ../trimming/Querymap.txt)\n",
    "do\n",
    "    if [ -s ../trimming/$a/$a\\_trimmed.fasta ]\n",
    "    then\n",
    "        echo -e \"\\n### Detecting chimeras in $a ###\\n\"\n",
    "        mkdir $a\n",
    "        cd $a\n",
    "        vsearch --uchime_ref ../../trimming/$a/$a\\_trimmed.fasta --db ../refs.fasta \\\n",
    "        --nonchimeras $a-nonchimeras.fasta --chimeras $a-chimeras.fasta &> log\n",
    "        cd ..\n",
    "\n",
    "    else\n",
    "        echo -e \"$a is empty\"\n",
    "    fi\n",
    "done\n",
    "\n",
    "echo -e \"Endtime: $(date)\\n\"\n"
   ]
  },
  {
   "cell_type": "markdown",
   "metadata": {},
   "source": [
    "### Last step is taxonomic assignment of reads based on a BLAST - LCA approach using the metaBEAT pipeline"
   ]
  },
  {
   "cell_type": "code",
   "execution_count": 17,
   "metadata": {
    "collapsed": false
   },
   "outputs": [
    {
     "name": "stdout",
     "output_type": "stream",
     "text": [
      "/home/working\n"
     ]
    }
   ],
   "source": [
    "cd .."
   ]
  },
  {
   "cell_type": "code",
   "execution_count": 1,
   "metadata": {
    "collapsed": false,
    "scrolled": false
   },
   "outputs": [],
   "source": [
    "!mkdir non-chimeras"
   ]
  },
  {
   "cell_type": "code",
   "execution_count": 2,
   "metadata": {
    "collapsed": false
   },
   "outputs": [
    {
     "name": "stdout",
     "output_type": "stream",
     "text": [
      "/home/working/non-chimeras\n"
     ]
    }
   ],
   "source": [
    "cd non-chimeras/"
   ]
  },
  {
   "cell_type": "markdown",
   "metadata": {},
   "source": [
    "__Prepare Querymap and Refmap txt files__"
   ]
  },
  {
   "cell_type": "markdown",
   "metadata": {},
   "source": [
    "__To skip the `GLOBAL` folder under chimeras detection, add a new line in below command  if [ \"$a\" != \"GLOBAL\" ]__\n"
   ]
  },
  {
   "cell_type": "code",
   "execution_count": 3,
   "metadata": {
    "collapsed": false
   },
   "outputs": [],
   "source": [
    "%%bash\n",
    "\n",
    "#Querymap\n",
    "for a in $(ls -l ../chimera_detection/ | grep \"^d\" | perl -ne 'chomp; @a=split(\" \"); print \"$a[-1]\\n\"')\n",
    "do\n",
    "   if [ \"$a\" != \"GLOBAL\" ]\n",
    "   then\n",
    "      echo -e \"$a-nc\\tfasta\\t../chimera_detection/$a/$a-nonchimeras.fasta\"\n",
    "   fi\n",
    "done > Querymap.txt\n",
    "\n",
    "\n",
    "\n",
    "#Write REFmap\n",
    "for file in $(ls -1 ../supplementary_data/reference_DBs/* | grep \"gb$\")\n",
    "do\n",
    "      echo -e \"$file\\tgb\"\n",
    "done > REFmap.txt\n"
   ]
  },
  {
   "cell_type": "code",
   "execution_count": null,
   "metadata": {
    "collapsed": true
   },
   "outputs": [],
   "source": [
    "!head -10  Querymap.txt"
   ]
  },
  {
   "cell_type": "code",
   "execution_count": null,
   "metadata": {
    "collapsed": true
   },
   "outputs": [],
   "source": [
    "!cat REFmap.txt"
   ]
  },
  {
   "cell_type": "markdown",
   "metadata": {},
   "source": [
    "__Sequence clustering and taxonomic assignment via metaBEAT__"
   ]
  },
  {
   "cell_type": "code",
   "execution_count": 6,
   "metadata": {
    "collapsed": false
   },
   "outputs": [
    {
     "name": "stdout",
     "output_type": "stream",
     "text": [
      "Starttime: Fri Dec 15 14:54:17 UTC 2017\n",
      "\n",
      "Endtime: Fri Dec 15 16:26:16 UTC 2017\n",
      "\n"
     ]
    }
   ],
   "source": [
    "%%bash\n",
    "\n",
    "echo -e \"Starttime: $(date)\\n\"\n",
    "\n",
    "metaBEAT_global.py \\\n",
    "-Q Querymap.txt \\\n",
    "-R REFmap.txt \\\n",
    "--cluster --clust_match 1 --clust_cov 3 \\\n",
    "--blast --min_ident 0.95 \\\n",
    "-m Cytb -n 5 \\\n",
    "-E -v \\\n",
    "-@  haikuilee@gmail.com \\\n",
    "-o Cytb_LP-trim_30-merged-nonchimeras-cluster_1c3-blast-min_ident_0.95 &> log_non-chimeras\n",
    "\n",
    "echo -e \"Endtime: $(date)\\n\""
   ]
  },
  {
   "cell_type": "markdown",
   "metadata": {},
   "source": [
    "__Results are under the `GLOBAL` folder__\n"
   ]
  },
  {
   "cell_type": "code",
   "execution_count": null,
   "metadata": {
    "collapsed": true
   },
   "outputs": [],
   "source": []
  }
 ],
 "metadata": {
  "kernelspec": {
   "display_name": "Python 2",
   "language": "python",
   "name": "python2"
  },
  "language_info": {
   "codemirror_mode": {
    "name": "ipython",
    "version": 2
   },
   "file_extension": ".py",
   "mimetype": "text/x-python",
   "name": "python",
   "nbconvert_exporter": "python",
   "pygments_lexer": "ipython2",
   "version": "2.7.6"
  }
 },
 "nbformat": 4,
 "nbformat_minor": 0
}
